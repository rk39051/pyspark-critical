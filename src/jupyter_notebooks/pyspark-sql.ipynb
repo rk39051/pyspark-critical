{
 "cells": [
  {
   "cell_type": "code",
   "execution_count": 1,
   "id": "941a58e9-99ed-4b26-b00f-8322d2b336bf",
   "metadata": {},
   "outputs": [],
   "source": [
    "from pyspark.sql import *\n",
    "from pyspark.sql.functions import *\n",
    "from pyspark.sql.types import *"
   ]
  },
  {
   "cell_type": "code",
   "execution_count": 2,
   "id": "82bf965a-bd60-478d-9d38-4628d69cc07d",
   "metadata": {},
   "outputs": [],
   "source": [
    "# creating spark session object\n",
    "spark = SparkSession.builder.master(\"local[*]\").getOrCreate()"
   ]
  },
  {
   "cell_type": "code",
   "execution_count": 6,
   "id": "5bd7aff1-3262-46c1-a3cf-93c3fb95eb86",
   "metadata": {},
   "outputs": [
    {
     "name": "stdout",
     "output_type": "stream",
     "text": [
      "+--------+\n",
      "|greeting|\n",
      "+--------+\n",
      "|Hi      |\n",
      "|How     |\n",
      "|Are     |\n",
      "|Hello   |\n",
      "|There   |\n",
      "|You     |\n",
      "+--------+\n",
      "\n",
      "+--------+\n",
      "|greeting|\n",
      "+--------+\n",
      "|Hi      |\n",
      "|How     |\n",
      "|Are     |\n",
      "|Hello   |\n",
      "|There   |\n",
      "+--------+\n",
      "only showing top 5 rows\n",
      "\n"
     ]
    }
   ],
   "source": [
    "# Transpose row to column\n",
    "# To transpose columns to rows: Use selectExpr with union in DataFrames.\n",
    "\n",
    "data = [\n",
    "    (\"Hi\", \"Hello\"),\n",
    "    (\"How\", \"There\"),\n",
    "    (\"Are\", \"You\")\n",
    "]\n",
    "\n",
    "columns = [\"greeting1\", \"greeting2\"]\n",
    "df = spark.createDataFrame(data, columns)\n",
    "\n",
    "df.selectExpr(\"greeting1 as greeting\").union(df.selectExpr(\"greeting2 as greeting\")).show(20,False)\n",
    "\n",
    "# Spark sql\n",
    "df.createOrReplaceTempView(\"temp\")\n",
    "spark.sql(\"\"\"select greeting1 as greeting from temp union select greeting2 as greeting from temp\"\"\").show(5,False)\n"
   ]
  },
  {
   "cell_type": "code",
   "execution_count": 21,
   "id": "e993151e-42d2-4deb-aebc-fe8fbe2b85e4",
   "metadata": {},
   "outputs": [
    {
     "name": "stdout",
     "output_type": "stream",
     "text": [
      "+--------+------+------+------+------+\n",
      "|category|value1|value2|value3|value4|\n",
      "+--------+------+------+------+------+\n",
      "|B       |null  |null  |1     |1     |\n",
      "|A       |1     |1     |null  |null  |\n",
      "+--------+------+------+------+------+\n",
      "\n",
      "+--------+------+\n",
      "|category|value1|\n",
      "+--------+------+\n",
      "|A       |1     |\n",
      "|B       |0     |\n",
      "+--------+------+\n",
      "\n"
     ]
    }
   ],
   "source": [
    "# Transpose rows to column\n",
    "# To transpose rows to columns: Use groupBy with pivot in DataFrames.\n",
    "data = [\n",
    "    (\"A\", \"value1\"),\n",
    "    (\"A\", \"value2\"),\n",
    "    (\"B\", \"value3\"),\n",
    "    (\"B\", \"value4\")\n",
    "]\n",
    "\n",
    "columns = [\"category\", \"value\"]\n",
    "df = spark.createDataFrame(data, columns)\n",
    "\n",
    "df.groupBy(\"category\").pivot(\"value\").count().show(5,False)\n",
    "\n",
    "# spark sql\n",
    "# In SQL use case statement with group by\n",
    "df.createOrReplaceTempView(\"temp\")\n",
    "spark.sql(\"\"\"select category, count(case when value =='value1' then 1 else null end) as value1 from temp group by category\"\"\").show(5,False)\n"
   ]
  },
  {
   "cell_type": "raw",
   "id": "b7c008d0-0692-4f87-a05b-2d88a8c132cc",
   "metadata": {},
   "source": []
  },
  {
   "cell_type": "code",
   "execution_count": null,
   "id": "3deb836f-c4cd-4571-aa54-7a9c93fa99b1",
   "metadata": {},
   "outputs": [],
   "source": []
  }
 ],
 "metadata": {
  "kernelspec": {
   "display_name": "Python 3 (ipykernel)",
   "language": "python",
   "name": "python3"
  },
  "language_info": {
   "codemirror_mode": {
    "name": "ipython",
    "version": 3
   },
   "file_extension": ".py",
   "mimetype": "text/x-python",
   "name": "python",
   "nbconvert_exporter": "python",
   "pygments_lexer": "ipython3",
   "version": "3.10.5"
  }
 },
 "nbformat": 4,
 "nbformat_minor": 5
}
