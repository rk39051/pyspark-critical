{
 "cells": [
  {
   "cell_type": "code",
   "execution_count": 1,
   "id": "6ba2d435-14d2-4d3f-9364-16c21217fdd1",
   "metadata": {},
   "outputs": [],
   "source": [
    "from pyspark.sql import *\n",
    "from pyspark.sql.functions import *\n",
    "from pyspark.sql.types import *"
   ]
  },
  {
   "cell_type": "code",
   "execution_count": 2,
   "id": "163dca70-036f-45fe-8735-92409ae757be",
   "metadata": {},
   "outputs": [],
   "source": [
    "# creating spark session object\n",
    "spark = SparkSession.builder.master(\"local[*]\").getOrCreate()"
   ]
  },
  {
   "cell_type": "code",
   "execution_count": 3,
   "id": "a942d4b0-1e7e-4ab0-8d34-fc39171f18c7",
   "metadata": {},
   "outputs": [
    {
     "data": {
      "text/html": [
       "\n",
       "            <div>\n",
       "                <p><b>SparkSession - in-memory</b></p>\n",
       "                \n",
       "        <div>\n",
       "            <p><b>SparkContext</b></p>\n",
       "\n",
       "            <p><a href=\"http://DESKTOP-FGTHRNG:4040\">Spark UI</a></p>\n",
       "\n",
       "            <dl>\n",
       "              <dt>Version</dt>\n",
       "                <dd><code>v3.3.0</code></dd>\n",
       "              <dt>Master</dt>\n",
       "                <dd><code>local[*]</code></dd>\n",
       "              <dt>AppName</dt>\n",
       "                <dd><code>pyspark-shell</code></dd>\n",
       "            </dl>\n",
       "        </div>\n",
       "        \n",
       "            </div>\n",
       "        "
      ],
      "text/plain": [
       "<pyspark.sql.session.SparkSession at 0x2d982183400>"
      ]
     },
     "execution_count": 3,
     "metadata": {},
     "output_type": "execute_result"
    }
   ],
   "source": [
    "spark"
   ]
  },
  {
   "cell_type": "code",
   "execution_count": 31,
   "id": "7bda6bbe-403c-4e46-838f-3bde6ff8d820",
   "metadata": {},
   "outputs": [
    {
     "name": "stdout",
     "output_type": "stream",
     "text": [
      "+--------------------+\n",
      "|text                |\n",
      "+--------------------+\n",
      "|Hi How are you doing|\n",
      "|My name is x        |\n",
      "+--------------------+\n",
      "only showing top 2 rows\n",
      "\n"
     ]
    }
   ],
   "source": [
    "# Sample data for the first DataFrame\n",
    "data = [\n",
    "    (\"Hi How are you doing\",),\n",
    "    (\"My name is x\",),\n",
    "    (\"Nice to meet you\",),\n",
    "    (\"Apache Spark is a multi-language engine for executing data engineering, data science, and machine learning on single-node machines or clusters.\",),\n",
    "]\n",
    "\n",
    "# Columns for the first DataFrame\n",
    "columns = [\"text\"]\n",
    "\n",
    "# Creating the first DataFrame\n",
    "df = spark.createDataFrame(data, columns)\n",
    "\n",
    "# Show the first DataFrame\n",
    "df.show(2,False)"
   ]
  },
  {
   "cell_type": "code",
   "execution_count": 32,
   "id": "cc47996b-a3ff-4b65-9581-ca64e3ee214b",
   "metadata": {},
   "outputs": [],
   "source": [
    "rdd = df.rdd"
   ]
  },
  {
   "cell_type": "markdown",
   "id": "dcb7ba82-0d02-4859-ba9c-a6bafc93d755",
   "metadata": {},
   "source": [
    "### Finding top 10 words"
   ]
  },
  {
   "cell_type": "code",
   "execution_count": 43,
   "id": "51c89795-14b0-4cdb-a259-5ac70dc6df58",
   "metadata": {},
   "outputs": [
    {
     "data": {
      "text/plain": [
       "[('you', 2), ('is', 2)]"
      ]
     },
     "execution_count": 43,
     "metadata": {},
     "output_type": "execute_result"
    }
   ],
   "source": [
    "\n",
    "rdd.flatMap(lambda x: x[0].split(\" \")).map(lambda x: (x,1)).reduceByKey(lambda x,y: x+y).sortBy(lambda x: x[1],ascending=False).take(2)"
   ]
  },
  {
   "cell_type": "code",
   "execution_count": 48,
   "id": "8f37f7d6-e203-4415-a2d0-06e9cad0260f",
   "metadata": {},
   "outputs": [
    {
     "data": {
      "text/plain": [
       "[('you', 2), ('is', 2)]"
      ]
     },
     "execution_count": 48,
     "metadata": {},
     "output_type": "execute_result"
    }
   ],
   "source": [
    "rdd.map(lambda x: x[0].split(\" \")).flatMap(lambda x: x).map(lambda x: (x,1)).reduceByKey(lambda x,y: x+y).takeOrdered(2,lambda x: -x[1])"
   ]
  },
  {
   "cell_type": "code",
   "execution_count": 49,
   "id": "1d06fa2e-89ad-4f13-83eb-10c6e402e3a1",
   "metadata": {},
   "outputs": [],
   "source": [
    "# flatMap can be used to transpose column value to row"
   ]
  },
  {
   "cell_type": "code",
   "execution_count": null,
   "id": "34fcdf78-6482-46ae-a368-bb7b3489d269",
   "metadata": {},
   "outputs": [],
   "source": []
  }
 ],
 "metadata": {
  "kernelspec": {
   "display_name": "Python 3 (ipykernel)",
   "language": "python",
   "name": "python3"
  },
  "language_info": {
   "codemirror_mode": {
    "name": "ipython",
    "version": 3
   },
   "file_extension": ".py",
   "mimetype": "text/x-python",
   "name": "python",
   "nbconvert_exporter": "python",
   "pygments_lexer": "ipython3",
   "version": "3.10.5"
  }
 },
 "nbformat": 4,
 "nbformat_minor": 5
}
